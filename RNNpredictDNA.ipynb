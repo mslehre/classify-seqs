{
 "cells": [
  {
   "cell_type": "markdown",
   "metadata": {},
   "source": [
    "# RNN Predict Observation at Next Time Step"
   ]
  },
  {
   "cell_type": "code",
   "execution_count": 2,
   "metadata": {},
   "outputs": [],
   "source": [
    "import numpy as np\n",
    "import tensorflow as tf\n",
    "from tensorflow.keras import layers"
   ]
  },
  {
   "cell_type": "markdown",
   "metadata": {},
   "source": [
    "## Prepare Input Data"
   ]
  },
  {
   "cell_type": "code",
   "execution_count": 3,
   "metadata": {},
   "outputs": [],
   "source": [
    "npzfile = np.load(\"data/train.npz\", allow_pickle=True)\n",
    "xraw_train = npzfile['x']\n",
    "y_train = npzfile['y']\n",
    "s = 4 # alphabet size"
   ]
  },
  {
   "cell_type": "code",
   "execution_count": 4,
   "metadata": {},
   "outputs": [],
   "source": [
    "# convert variable length lists to fixed-length array by \n",
    "# clipping longer sequences and padding shorter sequences with -1\n",
    "x_train = tf.keras.preprocessing.sequence.pad_sequences(\n",
    "    xraw_train, padding=\"post\", maxlen=99, value = -1)\n",
    "# Add 1 so 0 stands for missing and 1,2,3,4 for a,c,g,t\n",
    "x_train = x_train + 1"
   ]
  },
  {
   "cell_type": "code",
   "execution_count": 5,
   "metadata": {},
   "outputs": [
    {
     "data": {
      "text/plain": [
       "array([2, 4, 4, 4, 3, 3, 3, 1, 3, 3, 2, 2, 1, 1, 3, 1, 4, 3, 3, 3, 4, 3,\n",
       "       3, 1, 4, 2, 1, 2, 4, 4, 3, 1, 3, 3, 4, 2, 1, 3, 3, 1, 3, 4, 4, 2,\n",
       "       3, 1, 3, 1, 2, 2, 1, 3, 2, 2, 4, 3, 3, 2, 2, 1, 1, 2, 1, 4, 3, 0,\n",
       "       0, 0, 0, 0, 0, 0, 0, 0, 0, 0, 0, 0, 0, 0, 0, 0, 0, 0, 0, 0, 0, 0,\n",
       "       0, 0, 0, 0, 0, 0, 0, 0, 0, 0, 0], dtype=int32)"
      ]
     },
     "execution_count": 5,
     "metadata": {},
     "output_type": "execute_result"
    }
   ],
   "source": [
    "x_train[0]"
   ]
  },
  {
   "cell_type": "code",
   "execution_count": 7,
   "metadata": {},
   "outputs": [
    {
     "name": "stdout",
     "output_type": "stream",
     "text": [
      "input shape:  (12138, 99)\n"
     ]
    },
    {
     "data": {
      "text/plain": [
       "array([[2, 4, 4, 4, 3, 3, 3, 1, 3, 3, 2, 2, 1, 1, 3, 1, 4, 3, 3, 3, 4, 3,\n",
       "        3, 1, 4, 2, 1, 2, 4, 4, 3, 1, 3, 3, 4, 2, 1, 3, 3, 1, 3, 4, 4, 2,\n",
       "        3, 1, 3, 1, 2, 2, 1, 3, 2, 2, 4, 3, 3, 2, 2, 1, 1, 2, 1, 4, 3, 0,\n",
       "        0, 0, 0, 0, 0, 0, 0, 0, 0, 0, 0, 0, 0, 0, 0, 0, 0, 0, 0, 0, 0, 0,\n",
       "        0, 0, 0, 0, 0, 0, 0, 0, 0, 0, 0],\n",
       "       [3, 3, 2, 2, 2, 4, 3, 3, 3, 2, 1, 3, 2, 2, 3, 4, 4, 3, 1, 1, 2, 4,\n",
       "        4, 4, 2, 2, 2, 4, 2, 4, 2, 1, 4, 2, 1, 3, 2, 2, 2, 4, 3, 2, 2, 1,\n",
       "        2, 2, 1, 3, 3, 2, 1, 3, 3, 1, 2, 4, 2, 1, 3, 1, 3, 3, 4, 2, 2, 2,\n",
       "        2, 4, 4, 2, 2, 4, 2, 4, 3, 4, 2, 2, 2, 2, 4, 3, 2, 4, 3, 2, 1, 3,\n",
       "        3, 4, 3, 3, 1, 1, 3, 1, 4, 3, 1]], dtype=int32)"
      ]
     },
     "execution_count": 7,
     "metadata": {},
     "output_type": "execute_result"
    }
   ],
   "source": [
    "print (\"input shape: \", x_train.shape)\n",
    "x_train[:2,:]"
   ]
  },
  {
   "cell_type": "markdown",
   "metadata": {},
   "source": [
    "### count character frequencies in training set"
   ]
  },
  {
   "cell_type": "code",
   "execution_count": 26,
   "metadata": {},
   "outputs": [
    {
     "name": "stdout",
     "output_type": "stream",
     "text": [
      "frequencies of characters [0.25243348 0.25143555 0.24203248 0.2540985 ]\n"
     ]
    }
   ],
   "source": [
    "char_freqs = tf.reduce_mean(tf.one_hot(x_train, depth=5), axis=[0,1]).numpy()\n",
    "char_freqs = char_freqs[1:]\n",
    "char_freqs /= np.sum(char_freqs)\n",
    "print (\"frequencies of characters\", char_freqs)"
   ]
  },
  {
   "cell_type": "code",
   "execution_count": 32,
   "metadata": {},
   "outputs": [
    {
     "name": "stdout",
     "output_type": "stream",
     "text": [
      "baseline_accuracy = 1.3861\n"
     ]
    }
   ],
   "source": [
    "# From this, a trivial baseline cross-entropy error of a constant estimator can be estimated.\n",
    "baseline_accuracy = np.sum(- char_freqs * np.log(char_freqs))\n",
    "print (f\"baseline_accuracy = {baseline_accuracy:.4f}\")"
   ]
  },
  {
   "cell_type": "markdown",
   "metadata": {},
   "source": [
    "## Make TF Dataset\n",
    "Here, we do not need the labels (exon or not). Instead we try to predict the $i$-th character from input sequence up to $i-1$. E.g. the training output \n",
    "from \"attcac\" could be \"ttcacg\"."
   ]
  },
  {
   "cell_type": "code",
   "execution_count": 40,
   "metadata": {},
   "outputs": [
    {
     "data": {
      "text/plain": [
       "([1, 4, 4, 1, 1, 2],\n",
       " <tf.Tensor: shape=(6, 4), dtype=float32, numpy=\n",
       " array([[0., 0., 0., 1.],\n",
       "        [0., 0., 0., 1.],\n",
       "        [1., 0., 0., 0.],\n",
       "        [1., 0., 0., 0.],\n",
       "        [0., 1., 0., 0.],\n",
       "        [0., 0., 1., 0.]], dtype=float32)>)"
      ]
     },
     "execution_count": 40,
     "metadata": {},
     "output_type": "execute_result"
    }
   ],
   "source": [
    "def future_sequence(sequence):\n",
    "    input_seq = sequence[:-1]\n",
    "    target_seq = sequence[1:]\n",
    "    target_seq = tf.one_hot(target_seq, depth=5)\n",
    "    target_seq = target_seq[:,1:]\n",
    "    return input_seq, target_seq\n",
    "\n",
    "future_sequence([1,4,4,1,1,2,3])"
   ]
  },
  {
   "cell_type": "code",
   "execution_count": 41,
   "metadata": {},
   "outputs": [
    {
     "name": "stdout",
     "output_type": "stream",
     "text": [
      "shape of training example (32, 98) output (32, 98, 4)\n",
      "training example tf.Tensor([3 3 1 4 4 3 1 4 4 4], shape=(10,), dtype=int32) output tf.Tensor(\n",
      "[[0. 0. 1. 0.]\n",
      " [1. 0. 0. 0.]\n",
      " [0. 0. 0. 1.]\n",
      " [0. 0. 0. 1.]\n",
      " [0. 0. 1. 0.]\n",
      " [1. 0. 0. 0.]\n",
      " [0. 0. 0. 1.]\n",
      " [0. 0. 0. 1.]\n",
      " [0. 0. 0. 1.]\n",
      " [1. 0. 0. 0.]], shape=(10, 4), dtype=float32)\n"
     ]
    }
   ],
   "source": [
    "train_ds = tf.data.Dataset.from_tensor_slices(x_train)\n",
    "train_ds = train_ds.map(future_sequence)\n",
    "train_ds = train_ds.shuffle(20000).batch(32, drop_remainder=True)\n",
    "train_ds = train_ds.prefetch(tf.data.experimental.AUTOTUNE)\n",
    "\n",
    "for (a, b) in train_ds.take(1):\n",
    "    print(\"shape of training example\", a.shape, \"output\", b.shape)\n",
    "    print(\"training example\", a[0,:10], \"output\", b[0,:10])"
   ]
  },
  {
   "cell_type": "markdown",
   "metadata": {},
   "source": [
    "## Prepare Model"
   ]
  },
  {
   "cell_type": "code",
   "execution_count": 46,
   "metadata": {},
   "outputs": [
    {
     "name": "stdout",
     "output_type": "stream",
     "text": [
      "Model: \"sequential_2\"\n",
      "_________________________________________________________________\n",
      "Layer (type)                 Output Shape              Param #   \n",
      "=================================================================\n",
      "embedding_2 (Embedding)      (None, None, 4)           20        \n",
      "_________________________________________________________________\n",
      "lstm (LSTM)                  (None, None, 64)          17664     \n",
      "_________________________________________________________________\n",
      "dense_2 (Dense)              (None, None, 4)           260       \n",
      "=================================================================\n",
      "Total params: 17,944\n",
      "Trainable params: 17,944\n",
      "Non-trainable params: 0\n",
      "_________________________________________________________________\n"
     ]
    }
   ],
   "source": [
    "units=64\n",
    "rnn_simple = tf.keras.Sequential()\n",
    "rnn_simple.add(layers.Embedding(input_dim=s+1, output_dim=4, mask_zero=True))\n",
    "rnn_simple.add(layers.LSTM(units, return_sequences=True))\n",
    "# SimpleRNN outputs the hidden states directly.\n",
    "# Here, we want to transform them with a Dense layer with a units x s parameter matrix.\n",
    "# The following tf.keras.layers.Dense layer is applied to all positions and produces \n",
    "# a sequence output.\n",
    "rnn_simple.add(layers.Dense(4, activation='softmax'))\n",
    "rnn_simple.summary()"
   ]
  },
  {
   "cell_type": "code",
   "execution_count": 47,
   "metadata": {},
   "outputs": [
    {
     "data": {
      "text/plain": [
       "TensorShape([10, 99, 4])"
      ]
     },
     "execution_count": 47,
     "metadata": {},
     "output_type": "execute_result"
    }
   ],
   "source": [
    "out = rnn_simple(x_train[0:10,:])\n",
    "out.shape"
   ]
  },
  {
   "cell_type": "markdown",
   "metadata": {},
   "source": [
    "# Training"
   ]
  },
  {
   "cell_type": "code",
   "execution_count": 48,
   "metadata": {},
   "outputs": [],
   "source": [
    "rnn_simple.compile(optimizer='adam', loss='categorical_crossentropy')"
   ]
  },
  {
   "cell_type": "code",
   "execution_count": 49,
   "metadata": {},
   "outputs": [
    {
     "name": "stdout",
     "output_type": "stream",
     "text": [
      "Epoch 1/20\n",
      "379/379 [==============================] - 14s 30ms/step - loss: 1.2288\n",
      "Epoch 2/20\n",
      "379/379 [==============================] - 11s 29ms/step - loss: 1.1918\n",
      "Epoch 3/20\n",
      "379/379 [==============================] - 11s 29ms/step - loss: 1.1922\n",
      "Epoch 4/20\n",
      "379/379 [==============================] - 11s 29ms/step - loss: 1.1916\n",
      "Epoch 5/20\n",
      "379/379 [==============================] - 12s 31ms/step - loss: 1.1884\n",
      "Epoch 6/20\n",
      "379/379 [==============================] - 11s 29ms/step - loss: 1.1875\n",
      "Epoch 7/20\n",
      "379/379 [==============================] - 13s 33ms/step - loss: 1.1864\n",
      "Epoch 8/20\n",
      "379/379 [==============================] - 12s 30ms/step - loss: 1.1882\n",
      "Epoch 9/20\n",
      "379/379 [==============================] - 12s 31ms/step - loss: 1.1887\n",
      "Epoch 10/20\n",
      "379/379 [==============================] - 11s 30ms/step - loss: 1.1834\n",
      "Epoch 11/20\n",
      "379/379 [==============================] - 12s 31ms/step - loss: 1.1899\n",
      "Epoch 12/20\n",
      "379/379 [==============================] - 12s 30ms/step - loss: 1.1922\n",
      "Epoch 13/20\n",
      "379/379 [==============================] - 13s 33ms/step - loss: 1.1829\n",
      "Epoch 14/20\n",
      "379/379 [==============================] - 12s 31ms/step - loss: 1.1872\n",
      "Epoch 15/20\n",
      "379/379 [==============================] - 12s 31ms/step - loss: 1.1865\n",
      "Epoch 16/20\n",
      "379/379 [==============================] - 12s 30ms/step - loss: 1.1864\n",
      "Epoch 17/20\n",
      "379/379 [==============================] - 13s 33ms/step - loss: 1.1830\n",
      "Epoch 18/20\n",
      "379/379 [==============================] - 13s 33ms/step - loss: 1.1827\n",
      "Epoch 19/20\n",
      "379/379 [==============================] - 12s 32ms/step - loss: 1.1848\n",
      "Epoch 20/20\n",
      "379/379 [==============================] - 12s 31ms/step - loss: 1.1852\n"
     ]
    }
   ],
   "source": [
    "history = rnn_simple.fit(train_ds, epochs=20)"
   ]
  },
  {
   "cell_type": "code",
   "execution_count": null,
   "metadata": {},
   "outputs": [],
   "source": []
  }
 ],
 "metadata": {
  "kernelspec": {
   "display_name": "Python 3",
   "language": "python",
   "name": "python3"
  },
  "language_info": {
   "codemirror_mode": {
    "name": "ipython",
    "version": 3
   },
   "file_extension": ".py",
   "mimetype": "text/x-python",
   "name": "python",
   "nbconvert_exporter": "python",
   "pygments_lexer": "ipython3",
   "version": "3.8.5"
  }
 },
 "nbformat": 4,
 "nbformat_minor": 4
}
