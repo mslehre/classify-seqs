{
 "cells": [
  {
   "cell_type": "markdown",
   "metadata": {},
   "source": [
    "# RNN Predict Observation at Next Time Step"
   ]
  },
  {
   "cell_type": "code",
   "execution_count": 1,
   "metadata": {},
   "outputs": [],
   "source": [
    "import numpy as np\n",
    "import tensorflow as tf\n",
    "from tensorflow.keras import layers"
   ]
  },
  {
   "cell_type": "markdown",
   "metadata": {},
   "source": [
    "## Prepare Input Data"
   ]
  },
  {
   "cell_type": "code",
   "execution_count": 2,
   "metadata": {},
   "outputs": [],
   "source": [
    "from collections import Counter"
   ]
  },
  {
   "cell_type": "code",
   "execution_count": 3,
   "metadata": {},
   "outputs": [
    {
     "name": "stdout",
     "output_type": "stream",
     "text": [
      "First 10 characters of text: «2019 war \n",
      "The corpus contains 161 different characters. Taking only 95 most frequent ones:\n",
      "  0   429860\n",
      "  1 e 421632\n",
      "  2 n 260480\n",
      "  3 i 206284\n",
      "  4 r 192553\n",
      "  5 t 163515\n",
      "  6 s 150272\n",
      "  7 a 147159\n",
      "  8 d 112410\n",
      "  9 h 104914\n",
      " 10 u  95172\n",
      " 11 l  92577\n",
      " 12 o  72815\n",
      " 13 g  72248\n",
      " 14 c  68122\n",
      " 15 m  63110\n",
      " 16 b  43386\n",
      " 17 f  39345\n",
      " 18 w  31353\n",
      " 19 k  31187\n",
      " 20 .  30892\n",
      " 21 z  29362\n",
      " 22 ,  23169\n",
      " 23 v  18932\n",
      " 24 p  18719\n",
      " 25 S  18015\n",
      " 26 ü  16493\n",
      " 27 D  15084\n",
      " 28 ä  14865\n",
      " 29 A  13258\n",
      " 30 B  11477\n",
      " 31 M  11115\n",
      " 32 -  10255\n",
      " 33 E   9426\n",
      " 34 P   8711\n",
      " 35 K   8402\n",
      " 36 F   8395\n",
      " 37 W   7915\n",
      " 38 G   7407\n",
      " 39 ö   6932\n",
      " 40 T   6703\n",
      " 41 0   6600\n",
      " 42 V   6361\n",
      " 43 R   6079\n",
      " 44 L   5845\n",
      " 45 I   5662\n",
      " 46 H   5621\n",
      " 47 N   4660\n",
      " 48 U   4568\n",
      " 49 1   4459\n",
      " 50 C   4434\n",
      " 51 \"   4191\n",
      " 52 2   4116\n",
      " 53 ß   3961\n",
      " 54 Z   3848\n",
      " 55 J   3750\n",
      " 56 j   3015\n",
      " 57 :   3008\n",
      " 58 y   2887\n",
      " 59 O   2415\n",
      " 60 “   2105\n",
      " 61 3   1942\n",
      " 62 (   1886\n",
      " 63 )   1877\n",
      " 64 5   1830\n",
      " 65 „   1795\n",
      " 66 x   1545\n",
      " 67 9   1466\n",
      " 68 4   1465\n",
      " 69 8   1177\n",
      " 70 –   1123\n",
      " 71 7   1120\n",
      " 72 6   1108\n",
      " 73 ?    949\n",
      " 74 »    692\n",
      " 75 «    685\n",
      " 76 Ö    455\n",
      " 77 Q    426\n",
      " 78 Ü    410\n",
      " 79 !    393\n",
      " 80 /    335\n",
      " 81 q    320\n",
      " 82 Ä    218\n",
      " 83 '    196\n",
      " 84 Y    181\n",
      " 85 X    176\n",
      " 86 é    114\n",
      " 87 %     91\n",
      " 88 …     88\n",
      " 89 ’     79\n",
      " 90 ”     79\n",
      " 91 ;     75\n",
      " 92 &     69\n",
      " 93 €     53\n",
      " 94 *     46\n",
      "alphabet: enirtsadhulogcmbfwk.z,vpSüDäABM-EPKFWGöT0VRLIHNU1C\"2ßZJj:yO“3()5„x948–76?»«ÖQÜ!/qÄ'YXé%…’”;&€*❓\n",
      "number of sentences = 30000\n",
      "[75, 52, 41, 49, 67, 0, 18, 7, 4, 0]\n"
     ]
    }
   ],
   "source": [
    "fname = \"data/deu_news_2020_30K-sentences.txt\"\n",
    "rarechar = '❓' # use this for any character not in the alphabet\n",
    "\n",
    "# at first determine the alphabet on first read\n",
    "txt_file = open(fname, \"r\")\n",
    "text = txt_file.read().replace('\\n', '')\n",
    "print (\"First 10 characters of text:\", text[:10])\n",
    "charfreqs = Counter(text)\n",
    "sorted_chars = sorted(charfreqs.items(), key=lambda x: x[1], reverse=True)\n",
    "s = 96 # alphabet size\n",
    "# print(sorted_chars[:s-1])\n",
    "print(f\"The corpus contains {len(charfreqs)} different characters. Taking only {s-1} most frequent ones:\")\n",
    "alphabet = \"\"\n",
    "for i, (c, f) in enumerate(sorted_chars[:s-1]):\n",
    "    print (f\"{i:>3} {c} {f:>6}\")\n",
    "    alphabet += c\n",
    "alphabet += rarechar\n",
    "print (f\"alphabet:{alphabet}\")\n",
    "\n",
    "# translate from character to index in {0,1,2,3}\n",
    "nuc_idx = dict((c,i) for i,c in enumerate(alphabet))\n",
    "\n",
    "def charseq2idxseq(line:str):\n",
    "    x = [s-1] * len(line) # initialize with s-1 for rare or unknown character\n",
    "    for i, c in enumerate(line):\n",
    "        try:\n",
    "            x[i] = nuc_idx[c]\n",
    "        except:\n",
    "            pass # handled in initialization\n",
    "    return x\n",
    "\n",
    "# on second read store the text to a sequence of numbers\n",
    "seqlst = []\n",
    "txt_file.seek(0) # go to the start of file again\n",
    "for line in txt_file:\n",
    "    line = line.rstrip() # remove trailing white spaces, here one newline\n",
    "    x = charseq2idxseq(line)\n",
    "    seqlst.append(x)\n",
    "txt_file.close()\n",
    "num_sentences = len(seqlst)\n",
    "x_train_raw = np.array(seqlst, dtype=object)\n",
    "print (f\"number of sentences = {num_sentences}\")\n",
    "print (x_train_raw[0][:10])"
   ]
  },
  {
   "cell_type": "code",
   "execution_count": null,
   "metadata": {},
   "outputs": [],
   "source": []
  },
  {
   "cell_type": "code",
   "execution_count": 4,
   "metadata": {},
   "outputs": [],
   "source": [
    "# convert variable length lists to fixed-length array by \n",
    "# clipping longer sequences and padding shorter sequences with -1\n",
    "x_train = tf.keras.preprocessing.sequence.pad_sequences(\n",
    "    x_train_raw, padding=\"post\", maxlen=100, value = -1)\n",
    "# Add 1 so 0 stands for missing value\n",
    "x_train = x_train + 1"
   ]
  },
  {
   "cell_type": "code",
   "execution_count": 5,
   "metadata": {},
   "outputs": [
    {
     "name": "stdout",
     "output_type": "stream",
     "text": [
      "input shape:  (30000, 100)\n"
     ]
    },
    {
     "data": {
      "text/plain": [
       "array([[76, 53, 42, 50, 68,  1, 19,  8,  5,  1,  2,  4,  3,  1, 10,  2,\n",
       "         5,  8, 11,  7, 18, 13,  5,  9,  2,  5,  3,  9,  2,  7,  1, 56,\n",
       "         8, 10,  5,  1, 16,  4,  6,  1,  7,  6,  8,  5, 20,  2, 16,  1,\n",
       "        19,  2, 12,  6, 19,  4,  5,  6,  7, 15, 10,  8, 18,  6, 12,  4,\n",
       "        15, 10,  2, 16,  1, 39,  2, 14,  2,  3, 19,  4,  3,  9, 75, 23,\n",
       "         1,  7,  8, 14,  6,  2,  1, 31,  5, 11,  9,  2,  5, 16, 27, 12,\n",
       "        12,  2,  5, 21],\n",
       "       [76, 53, 42, 53, 42,  1,  8,  3,  3, 13,  1, 25,  8,  3,  9,  2,\n",
       "        16,  4, 15, 13,  1, 51, 13,  5, 13,  3,  8, 24,  4,  5, 11,  7,\n",
       "        75,  1,  7,  6,  2, 10,  6,  1, 14,  8,  3, 22,  1, 13, 17,  2,\n",
       "         3,  1,  8, 11, 18,  1,  9,  2,  5,  1, 41,  8, 18,  2, 12, 21,\n",
       "         0,  0,  0,  0,  0,  0,  0,  0,  0,  0,  0,  0,  0,  0,  0,  0,\n",
       "         0,  0,  0,  0,  0,  0,  0,  0,  0,  0,  0,  0,  0,  0,  0,  0,\n",
       "         0,  0,  0,  0]], dtype=int32)"
      ]
     },
     "execution_count": 5,
     "metadata": {},
     "output_type": "execute_result"
    }
   ],
   "source": [
    "print (\"input shape: \", x_train.shape)\n",
    "x_train[:2,:]"
   ]
  },
  {
   "cell_type": "markdown",
   "metadata": {},
   "source": [
    "### count character frequencies in training set"
   ]
  },
  {
   "cell_type": "code",
   "execution_count": 6,
   "metadata": {},
   "outputs": [],
   "source": [
    "char_freqs = tf.reduce_mean(tf.one_hot(x_train, depth=s+1), axis=[0,1]).numpy()\n",
    "char_freqs = char_freqs[1:]\n",
    "char_freqs /= np.sum(char_freqs)\n",
    "# print (\"frequencies of characters\", char_freqs)"
   ]
  },
  {
   "cell_type": "code",
   "execution_count": 7,
   "metadata": {},
   "outputs": [
    {
     "data": {
      "text/plain": [
       "Text(0.5, 1.0, 'Most frequent characters and their relative log-frequency')"
      ]
     },
     "execution_count": 7,
     "metadata": {},
     "output_type": "execute_result"
    },
    {
     "data": {
      "image/png": "[encoded data removed]",
      "text/plain": [
       "<Figure size 432x288 with 1 Axes>"
      ]
     },
     "metadata": {
      "needs_background": "light"
     },
     "output_type": "display_data"
    }
   ],
   "source": [
    "import matplotlib.pyplot as plt\n",
    "plt.plot(range(s), np.log10(char_freqs))\n",
    "plt.title(\"Most frequent characters and their relative log-frequency\")"
   ]
  },
  {
   "cell_type": "code",
   "execution_count": 8,
   "metadata": {},
   "outputs": [
    {
     "name": "stdout",
     "output_type": "stream",
     "text": [
      "baseline_accuracy = 3.2156\n"
     ]
    }
   ],
   "source": [
    "# From this, a trivial baseline cross-entropy error of a constant estimator can be estimated.\n",
    "baseline_accuracy = np.sum(- char_freqs * np.log(char_freqs))\n",
    "print (f\"baseline_accuracy = {baseline_accuracy:.4f}\")"
   ]
  },
  {
   "cell_type": "markdown",
   "metadata": {},
   "source": [
    "## Make TF Dataset\n",
    "Here, we do not need the labels (exon or not). Instead we try to predict the $i$-th character from input sequence up to $i-1$. E.g. the training output \n",
    "from \"attcac\" could be \"ttcacg\"."
   ]
  },
  {
   "cell_type": "code",
   "execution_count": 9,
   "metadata": {},
   "outputs": [],
   "source": [
    "def future_sequence(sequence):\n",
    "    input_seq = sequence[:-1]\n",
    "    target_seq = sequence[1:]\n",
    "    target_seq = tf.one_hot(target_seq, depth=s+1)\n",
    "    target_seq = target_seq[:,1:]\n",
    "    return input_seq, target_seq\n",
    "\n",
    "# future_sequence([1,4,4,1,1,2,3])"
   ]
  },
  {
   "cell_type": "code",
   "execution_count": 10,
   "metadata": {},
   "outputs": [
    {
     "name": "stdout",
     "output_type": "stream",
     "text": [
      "shape of training example (32, 99) output (32, 99, 96)\n",
      "training example tf.Tensor([28  2  3  3  1 30 11  7  7  8], shape=(10,), dtype=int32)\n"
     ]
    }
   ],
   "source": [
    "train_ds = tf.data.Dataset.from_tensor_slices(x_train)\n",
    "train_ds = train_ds.map(future_sequence)\n",
    "train_ds = train_ds.shuffle(20000).batch(32, drop_remainder=True)\n",
    "train_ds = train_ds.prefetch(tf.data.experimental.AUTOTUNE)\n",
    "\n",
    "for (a, b) in train_ds.take(1):\n",
    "    print(\"shape of training example\", a.shape, \"output\", b.shape)\n",
    "    print(\"training example\", a[0,:10])\n",
    "    # print(\"output\", b[0,:10])"
   ]
  },
  {
   "cell_type": "markdown",
   "metadata": {},
   "source": [
    "## Prepare Model"
   ]
  },
  {
   "cell_type": "code",
   "execution_count": 11,
   "metadata": {},
   "outputs": [
    {
     "name": "stdout",
     "output_type": "stream",
     "text": [
      "Model: \"sequential\"\n",
      "_________________________________________________________________\n",
      "Layer (type)                 Output Shape              Param #   \n",
      "=================================================================\n",
      "embedding (Embedding)        (None, None, 96)          9312      \n",
      "_________________________________________________________________\n",
      "gru (GRU)                    (None, None, 512)         936960    \n",
      "_________________________________________________________________\n",
      "dense (Dense)                (None, None, 96)          49248     \n",
      "=================================================================\n",
      "Total params: 995,520\n",
      "Trainable params: 995,520\n",
      "Non-trainable params: 0\n",
      "_________________________________________________________________\n"
     ]
    }
   ],
   "source": [
    "units=512\n",
    "rnn_simple = tf.keras.Sequential()\n",
    "rnn_simple.add(layers.Embedding(input_dim=s+1, output_dim=s, mask_zero=True))\n",
    "rnn_simple.add(layers.GRU(units, return_sequences=True))\n",
    "# SimpleRNN outputs the hidden states directly.\n",
    "# Here, we want to transform them with a Dense layer with a units x s parameter matrix.\n",
    "# The following tf.keras.layers.Dense layer is applied to all positions and produces \n",
    "# a sequence output.\n",
    "rnn_simple.add(layers.Dense(s, activation='softmax'))\n",
    "rnn_simple.summary()"
   ]
  },
  {
   "cell_type": "markdown",
   "metadata": {},
   "source": [
    "# Training"
   ]
  },
  {
   "cell_type": "code",
   "execution_count": 12,
   "metadata": {},
   "outputs": [],
   "source": [
    "rnn_simple.compile(optimizer='adam', loss='categorical_crossentropy')"
   ]
  },
  {
   "cell_type": "code",
   "execution_count": 13,
   "metadata": {},
   "outputs": [
    {
     "name": "stdout",
     "output_type": "stream",
     "text": [
      "Epoch 1/40\n",
      "937/937 [==============================] - 280s 297ms/step - loss: 2.2046\n",
      "Epoch 2/40\n",
      "937/937 [==============================] - 279s 297ms/step - loss: 1.4029\n",
      "Epoch 3/40\n",
      "937/937 [==============================] - 279s 298ms/step - loss: 1.2330\n",
      "Epoch 4/40\n",
      "937/937 [==============================] - 280s 298ms/step - loss: 1.1635\n",
      "Epoch 5/40\n",
      "937/937 [==============================] - 281s 299ms/step - loss: 1.1208\n",
      "Epoch 6/40\n",
      "937/937 [==============================] - 276s 294ms/step - loss: 1.0868\n",
      "Epoch 7/40\n",
      "937/937 [==============================] - 276s 294ms/step - loss: 1.0661\n",
      "Epoch 8/40\n",
      "937/937 [==============================] - 276s 294ms/step - loss: 1.0485\n",
      "Epoch 9/40\n",
      "937/937 [==============================] - 277s 295ms/step - loss: 1.0338\n",
      "Epoch 10/40\n",
      "937/937 [==============================] - 277s 295ms/step - loss: 1.0194\n",
      "Epoch 11/40\n",
      "937/937 [==============================] - 276s 294ms/step - loss: 1.0054\n",
      "Epoch 12/40\n",
      "937/937 [==============================] - 276s 294ms/step - loss: 0.9978\n",
      "Epoch 13/40\n",
      "937/937 [==============================] - 276s 294ms/step - loss: 0.9876\n",
      "Epoch 14/40\n",
      "937/937 [==============================] - 277s 295ms/step - loss: 0.9815\n",
      "Epoch 15/40\n",
      "937/937 [==============================] - 277s 295ms/step - loss: 0.9747\n",
      "Epoch 16/40\n",
      "937/937 [==============================] - 277s 295ms/step - loss: 0.9660\n",
      "Epoch 17/40\n",
      "937/937 [==============================] - 276s 294ms/step - loss: 0.9608\n",
      "Epoch 18/40\n",
      "937/937 [==============================] - 277s 295ms/step - loss: 0.9592\n",
      "Epoch 19/40\n",
      "937/937 [==============================] - 277s 295ms/step - loss: 0.9530\n",
      "Epoch 20/40\n",
      "937/937 [==============================] - 277s 295ms/step - loss: 0.9536\n",
      "Epoch 21/40\n",
      "937/937 [==============================] - 277s 295ms/step - loss: 0.9467\n",
      "Epoch 22/40\n",
      "937/937 [==============================] - 277s 295ms/step - loss: 0.9433\n",
      "Epoch 23/40\n",
      "937/937 [==============================] - 277s 295ms/step - loss: 0.9438\n",
      "Epoch 24/40\n",
      "937/937 [==============================] - 277s 295ms/step - loss: 0.9376\n",
      "Epoch 25/40\n",
      "937/937 [==============================] - 277s 296ms/step - loss: 0.9372\n",
      "Epoch 26/40\n",
      "937/937 [==============================] - 277s 295ms/step - loss: 0.9332\n",
      "Epoch 27/40\n",
      "937/937 [==============================] - 278s 296ms/step - loss: 0.9354\n",
      "Epoch 28/40\n",
      "937/937 [==============================] - 277s 295ms/step - loss: 0.9315\n",
      "Epoch 29/40\n",
      "937/937 [==============================] - 277s 295ms/step - loss: 0.9297\n",
      "Epoch 30/40\n",
      "937/937 [==============================] - 277s 295ms/step - loss: 0.9332\n",
      "Epoch 31/40\n",
      "937/937 [==============================] - 278s 296ms/step - loss: 0.9295\n",
      "Epoch 32/40\n",
      "937/937 [==============================] - 277s 295ms/step - loss: 0.9301\n",
      "Epoch 33/40\n",
      "937/937 [==============================] - 278s 296ms/step - loss: 0.9277\n",
      "Epoch 34/40\n",
      "937/937 [==============================] - 277s 295ms/step - loss: 0.9269\n",
      "Epoch 35/40\n",
      "937/937 [==============================] - 278s 296ms/step - loss: 0.9276\n",
      "Epoch 36/40\n",
      "937/937 [==============================] - 278s 296ms/step - loss: 0.9253\n",
      "Epoch 37/40\n",
      "937/937 [==============================] - 278s 296ms/step - loss: 0.9249\n",
      "Epoch 38/40\n",
      "937/937 [==============================] - 278s 297ms/step - loss: 0.9255\n",
      "Epoch 39/40\n",
      "937/937 [==============================] - 278s 296ms/step - loss: 0.9243\n",
      "Epoch 40/40\n",
      "937/937 [==============================] - 278s 296ms/step - loss: 0.9251\n"
     ]
    }
   ],
   "source": [
    "num_epochs=40\n",
    "history = rnn_simple.fit(train_ds, epochs=num_epochs)"
   ]
  },
  {
   "cell_type": "code",
   "execution_count": 14,
   "metadata": {},
   "outputs": [
    {
     "data": {
      "text/plain": [
       "<matplotlib.legend.Legend at 0x7fe3cb72c4c0>"
      ]
     },
     "execution_count": 14,
     "metadata": {},
     "output_type": "execute_result"
    },
    {
     "data": {
      "image/png": "[encoded data removed]",
      "text/plain": [
       "<Figure size 432x288 with 1 Axes>"
      ]
     },
     "metadata": {
      "needs_background": "light"
     },
     "output_type": "display_data"
    }
   ],
   "source": [
    "plt.figure()\n",
    "plt.plot(range(num_epochs), history.history['loss'], label='training loss')\n",
    "plt.hlines(baseline_accuracy, 0, 20, linestyles='dashed', label='constant estimator')\n",
    "plt.title(\"Training loss\")\n",
    "plt.ylabel(\"CEE\")\n",
    "plt.ylabel(\"epoch\")\n",
    "plt.legend()"
   ]
  },
  {
   "cell_type": "markdown",
   "metadata": {},
   "source": [
    "# Example Prediction"
   ]
  },
  {
   "cell_type": "code",
   "execution_count": 15,
   "metadata": {},
   "outputs": [
    {
     "name": "stdout",
     "output_type": "stream",
     "text": [
      "Predicted extension of 'Greifswal':'d'\n",
      "Predicted extension of 'Was für ein sc':'h'\n",
      "Predicted extension of 'Er ging hinei':'n'\n",
      "Predicted extension of 'Gebe es ihr zur':'ü'\n",
      "Predicted extension of 'hatten es vers':'c'\n",
      "Predicted extension of 'Sollbruchstell':'e'\n",
      "Predicted extension of 'Hier ist der Satz zu Ende':' '\n",
      "Predicted extension of 'zu seine':'m'\n",
      "Predicted extension of 'keine Angs':'t'\n"
     ]
    }
   ],
   "source": [
    "prefixes = [\"Greifswal\",\n",
    "            \"Was für ein sc\",\n",
    "            \"Er ging hinei\",\n",
    "            \"Gebe es ihr zur\",\n",
    "            \"hatten es vers\",\n",
    "            \"Sollbruchstell\",\n",
    "            \"Hier ist der Satz zu Ende\",\n",
    "            \"zu seine\",\n",
    "            \"keine Angs\"]\n",
    "seqlst = []\n",
    "for line in prefixes:\n",
    "    x = charseq2idxseq(line)\n",
    "    seqlst.append(x)\n",
    "\n",
    "x_test = tf.keras.preprocessing.sequence.pad_sequences(\n",
    "    seqlst, padding=\"post\", maxlen=100, value = -1)\n",
    "\n",
    "x_test = x_test + 1\n",
    "out = rnn_simple(x_test)\n",
    "ml_chars = tf.math.argmax(out, axis=-1)\n",
    "for i, line in enumerate(prefixes):\n",
    "    t = len(line)\n",
    "    j = ml_chars[i, t]\n",
    "    nextchar = alphabet[j]\n",
    "    print(f\"Predicted extension of '{line}':'{nextchar}'\")"
   ]
  },
  {
   "cell_type": "code",
   "execution_count": null,
   "metadata": {},
   "outputs": [],
   "source": []
  }
 ],
 "metadata": {
  "kernelspec": {
   "display_name": "Python 3",
   "language": "python",
   "name": "python3"
  },
  "language_info": {
   "codemirror_mode": {
    "name": "ipython",
    "version": 3
   },
   "file_extension": ".py",
   "mimetype": "text/x-python",
   "name": "python",
   "nbconvert_exporter": "python",
   "pygments_lexer": "ipython3",
   "version": "3.8.5"
  }
 },
 "nbformat": 4,
 "nbformat_minor": 4
}
